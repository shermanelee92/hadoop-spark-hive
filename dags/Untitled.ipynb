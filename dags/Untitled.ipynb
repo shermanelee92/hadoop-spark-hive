{
 "cells": [
  {
   "cell_type": "code",
   "execution_count": 3,
   "metadata": {},
   "outputs": [
    {
     "name": "stdout",
     "output_type": "stream",
     "text": [
      "<Record x=<Node id=0 labels={'university'} properties={'name': 'Cornell University'}>>\n",
      "<Record x=<Node id=1 labels={'university'} properties={'name': 'Yale University'}>>\n",
      "<Record x=<Node id=2 labels={'university'} properties={'name': 'Princeton University'}>>\n",
      "<Record x=<Node id=3 labels={'university'} properties={'name': 'Harvard University'}>>\n"
     ]
    }
   ],
   "source": [
    "from neo4j import GraphDatabase\n",
    "\n",
    "uri = \"bolt://neo4j:7687\"\n",
    "driver = GraphDatabase.driver(uri, auth=(\"neo4j\", \"test\"))\n",
    "\n",
    "cqlNodeQuery = \"MATCH (x:university) RETURN x\"\n",
    "nodes = driver.session().run(cqlNodeQuery)\n",
    "\n",
    "for node in nodes:\n",
    "    print(node)"
   ]
  },
  {
   "cell_type": "code",
   "execution_count": 1,
   "metadata": {},
   "outputs": [
    {
     "name": "stdout",
     "output_type": "stream",
     "text": [
      "+--------+---------+-----------+\n",
      "|database|tableName|isTemporary|\n",
      "+--------+---------+-----------+\n",
      "+--------+---------+-----------+\n",
      "\n"
     ]
    }
   ],
   "source": [
    "from __future__ import print_function\n",
    "\n",
    "import findspark\n",
    "findspark.init('/usr/local/spark')\n",
    "\n",
    "import sys\n",
    "from operator import add\n",
    "\n",
    "from pyspark.sql import SparkSession\n",
    "from pyspark.sql import HiveContext\n",
    "from pyspark import SparkContext, SparkConf\n",
    "sc = SparkContext.getOrCreate()\n",
    "hiveCtx = HiveContext(sc)\n",
    "\n",
    "# hiveCtx.hql(\"CREATE TABLE IF NOT EXISTS src (key INT, value STRING)\")\n",
    "\n",
    "df_load = hiveCtx.sql('SHOW TABLES')\n",
    "df_load.show();"
   ]
  },
  {
   "cell_type": "code",
   "execution_count": null,
   "metadata": {},
   "outputs": [],
   "source": []
  }
 ],
 "metadata": {
  "kernelspec": {
   "display_name": "Python 3",
   "language": "python",
   "name": "python3"
  },
  "language_info": {
   "codemirror_mode": {
    "name": "ipython",
    "version": 3
   },
   "file_extension": ".py",
   "mimetype": "text/x-python",
   "name": "python",
   "nbconvert_exporter": "python",
   "pygments_lexer": "ipython3",
   "version": "3.6.8"
  }
 },
 "nbformat": 4,
 "nbformat_minor": 2
}
